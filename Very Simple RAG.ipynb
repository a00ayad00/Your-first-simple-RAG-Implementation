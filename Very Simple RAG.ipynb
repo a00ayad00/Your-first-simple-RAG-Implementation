{
  "nbformat": 4,
  "nbformat_minor": 0,
  "metadata": {
    "colab": {
      "provenance": []
    },
    "kernelspec": {
      "name": "python3",
      "display_name": "Python 3"
    },
    "language_info": {
      "name": "python"
    }
  },
  "cells": [
    {
      "cell_type": "markdown",
      "source": [
        "# Data"
      ],
      "metadata": {
        "id": "xzvea1wtL_OQ"
      }
    },
    {
      "cell_type": "code",
      "source": [
        "!pip install -q langchain\n",
        "!pip install -q wikipedia"
      ],
      "metadata": {
        "colab": {
          "base_uri": "https://localhost:8080/"
        },
        "id": "XDeht5QLMF-R",
        "outputId": "6f215ef5-fb14-4e6f-ed0c-3a9c47c4c7d3"
      },
      "execution_count": 1,
      "outputs": [
        {
          "output_type": "stream",
          "name": "stdout",
          "text": [
            "\u001b[2K     \u001b[90m━━━━━━━━━━━━━━━━━━━━━━━━━━━━━━━━━━━━━━━━\u001b[0m \u001b[32m806.2/806.2 kB\u001b[0m \u001b[31m7.4 MB/s\u001b[0m eta \u001b[36m0:00:00\u001b[0m\n",
            "\u001b[2K     \u001b[90m━━━━━━━━━━━━━━━━━━━━━━━━━━━━━━━━━━━━━━━━\u001b[0m \u001b[32m1.8/1.8 MB\u001b[0m \u001b[31m13.1 MB/s\u001b[0m eta \u001b[36m0:00:00\u001b[0m\n",
            "\u001b[2K     \u001b[90m━━━━━━━━━━━━━━━━━━━━━━━━━━━━━━━━━━━━━━━━\u001b[0m \u001b[32m252.4/252.4 kB\u001b[0m \u001b[31m16.2 MB/s\u001b[0m eta \u001b[36m0:00:00\u001b[0m\n",
            "\u001b[2K     \u001b[90m━━━━━━━━━━━━━━━━━━━━━━━━━━━━━━━━━━━━━━━━\u001b[0m \u001b[32m64.5/64.5 kB\u001b[0m \u001b[31m6.1 MB/s\u001b[0m eta \u001b[36m0:00:00\u001b[0m\n",
            "\u001b[2K     \u001b[90m━━━━━━━━━━━━━━━━━━━━━━━━━━━━━━━━━━━━━━━━\u001b[0m \u001b[32m49.4/49.4 kB\u001b[0m \u001b[31m4.6 MB/s\u001b[0m eta \u001b[36m0:00:00\u001b[0m\n",
            "\u001b[2K     \u001b[90m━━━━━━━━━━━━━━━━━━━━━━━━━━━━━━━━━━━━━━━━\u001b[0m \u001b[32m138.5/138.5 kB\u001b[0m \u001b[31m13.2 MB/s\u001b[0m eta \u001b[36m0:00:00\u001b[0m\n",
            "\u001b[?25h  Preparing metadata (setup.py) ... \u001b[?25l\u001b[?25hdone\n",
            "  Building wheel for wikipedia (setup.py) ... \u001b[?25l\u001b[?25hdone\n"
          ]
        }
      ]
    },
    {
      "cell_type": "code",
      "execution_count": 2,
      "metadata": {
        "id": "80tV6rssmvI2"
      },
      "outputs": [],
      "source": [
        "from langchain.document_loaders import WikipediaLoader"
      ]
    },
    {
      "cell_type": "code",
      "source": [
        "query1 = \"Nikola Tesla\"\n",
        "doc1 = WikipediaLoader(query1, load_max_docs=1, doc_content_chars_max=20000).load()\n",
        "doc1_content = doc1[0].page_content\n",
        "\n",
        "query2 = \"Thomas Edison\"\n",
        "doc2 = WikipediaLoader(query2, load_max_docs=1, doc_content_chars_max=20000).load()\n",
        "doc2_content = doc2[0].page_content"
      ],
      "metadata": {
        "id": "FndalgbMMCwR"
      },
      "execution_count": 3,
      "outputs": []
    },
    {
      "cell_type": "code",
      "source": [
        "# print(doc1_content)"
      ],
      "metadata": {
        "id": "9NJtmJXuPBq6"
      },
      "execution_count": 4,
      "outputs": []
    },
    {
      "cell_type": "code",
      "source": [
        "# print(doc2_content)"
      ],
      "metadata": {
        "id": "JonBAaAaOSVI"
      },
      "execution_count": 5,
      "outputs": []
    },
    {
      "cell_type": "code",
      "source": [
        "docs = [doc1_content, doc2_content]\n",
        "metadata = [{\"document\":query1}, {\"document\":query2}]"
      ],
      "metadata": {
        "id": "v6Xy236eOJpR"
      },
      "execution_count": 6,
      "outputs": []
    },
    {
      "cell_type": "markdown",
      "source": [
        "# Text Splitter"
      ],
      "metadata": {
        "id": "4I-I6GzyQcu9"
      }
    },
    {
      "cell_type": "code",
      "source": [
        "!pip install -q tiktoken"
      ],
      "metadata": {
        "colab": {
          "base_uri": "https://localhost:8080/"
        },
        "id": "mf4ji2dkAf8a",
        "outputId": "403f0b14-3de7-474f-b7a4-01c7022c3989"
      },
      "execution_count": 7,
      "outputs": [
        {
          "output_type": "stream",
          "name": "stdout",
          "text": [
            "\u001b[2K     \u001b[90m━━━━━━━━━━━━━━━━━━━━━━━━━━━━━━━━━━━━━━━━\u001b[0m \u001b[32m1.8/1.8 MB\u001b[0m \u001b[31m10.8 MB/s\u001b[0m eta \u001b[36m0:00:00\u001b[0m\n",
            "\u001b[?25h"
          ]
        }
      ]
    },
    {
      "cell_type": "code",
      "source": [
        "from langchain.text_splitter import NLTKTextSplitter\n",
        "# from langchain.text_splitter import TokenTextSplitter\n",
        "\n",
        "import nltk\n",
        "nltk.download('punkt')"
      ],
      "metadata": {
        "colab": {
          "base_uri": "https://localhost:8080/"
        },
        "id": "dLRdQ2dbQJrq",
        "outputId": "b64506b1-86ed-469c-86d4-bb9bf111b4b9"
      },
      "execution_count": 8,
      "outputs": [
        {
          "output_type": "stream",
          "name": "stderr",
          "text": [
            "[nltk_data] Downloading package punkt to /root/nltk_data...\n",
            "[nltk_data]   Unzipping tokenizers/punkt.zip.\n"
          ]
        },
        {
          "output_type": "execute_result",
          "data": {
            "text/plain": [
              "True"
            ]
          },
          "metadata": {},
          "execution_count": 8
        }
      ]
    },
    {
      "cell_type": "code",
      "source": [
        "splitter = NLTKTextSplitter(chunk_size=355, chunk_overlap=50)\n",
        "chunks = splitter.create_documents(docs, metadatas=metadata)"
      ],
      "metadata": {
        "colab": {
          "base_uri": "https://localhost:8080/"
        },
        "id": "a-WoMBYwQ0Qq",
        "outputId": "d6703938-4563-487b-ecd5-08e519a196bd"
      },
      "execution_count": 11,
      "outputs": [
        {
          "output_type": "stream",
          "name": "stderr",
          "text": [
            "WARNING:langchain_text_splitters.base:Created a chunk of size 514, which is longer than the specified 355\n",
            "WARNING:langchain_text_splitters.base:Created a chunk of size 372, which is longer than the specified 355\n",
            "WARNING:langchain_text_splitters.base:Created a chunk of size 548, which is longer than the specified 355\n",
            "WARNING:langchain_text_splitters.base:Created a chunk of size 680, which is longer than the specified 355\n",
            "WARNING:langchain_text_splitters.base:Created a chunk of size 411, which is longer than the specified 355\n",
            "WARNING:langchain_text_splitters.base:Created a chunk of size 381, which is longer than the specified 355\n"
          ]
        }
      ]
    },
    {
      "cell_type": "code",
      "source": [
        "len(chunks)"
      ],
      "metadata": {
        "colab": {
          "base_uri": "https://localhost:8080/"
        },
        "id": "s2y4W4SsSPL5",
        "outputId": "4a909718-bbbc-4f86-91e4-350538ea0361"
      },
      "execution_count": 12,
      "outputs": [
        {
          "output_type": "execute_result",
          "data": {
            "text/plain": [
              "150"
            ]
          },
          "metadata": {},
          "execution_count": 12
        }
      ]
    },
    {
      "cell_type": "code",
      "source": [
        "chunks[0]"
      ],
      "metadata": {
        "colab": {
          "base_uri": "https://localhost:8080/"
        },
        "id": "yAH8ggJHRmcd",
        "outputId": "d1c3f770-c170-4f81-a412-2c6cf25832ec"
      },
      "execution_count": 13,
      "outputs": [
        {
          "output_type": "execute_result",
          "data": {
            "text/plain": [
              "Document(page_content='Nikola Tesla (; Serbian Cyrillic: Никола Тесла, [nǐkola têsla]; 10 July [O.S.\\n\\n28 June] 1856 – 7 January 1943) was a Serbian-American inventor, electrical engineer, mechanical engineer, and futurist.', metadata={'document': 'Nikola Tesla'})"
            ]
          },
          "metadata": {},
          "execution_count": 13
        }
      ]
    },
    {
      "cell_type": "code",
      "source": [
        "chunks[0].page_content"
      ],
      "metadata": {
        "colab": {
          "base_uri": "https://localhost:8080/",
          "height": 0
        },
        "id": "KxeU1rTOm766",
        "outputId": "0265795d-aa2c-4fa6-e9c3-0ba82d0ed0f8"
      },
      "execution_count": 14,
      "outputs": [
        {
          "output_type": "execute_result",
          "data": {
            "text/plain": [
              "'Nikola Tesla (; Serbian Cyrillic: Никола Тесла, [nǐkola têsla]; 10 July [O.S.\\n\\n28 June] 1856 – 7 January 1943) was a Serbian-American inventor, electrical engineer, mechanical engineer, and futurist.'"
            ],
            "application/vnd.google.colaboratory.intrinsic+json": {
              "type": "string"
            }
          },
          "metadata": {},
          "execution_count": 14
        }
      ]
    },
    {
      "cell_type": "code",
      "source": [
        "chunks[1].page_content"
      ],
      "metadata": {
        "colab": {
          "base_uri": "https://localhost:8080/",
          "height": 0
        },
        "id": "eTEY5KrpWwbK",
        "outputId": "2947758a-2685-43b7-f090-7ab82e9e8205"
      },
      "execution_count": 15,
      "outputs": [
        {
          "output_type": "execute_result",
          "data": {
            "text/plain": [
              "'He is best known for his contributions to the design of the modern alternating current (AC) electricity supply system.Born and raised in the Austrian Empire, Tesla first studied engineering and physics in the 1870s without receiving a degree.'"
            ],
            "application/vnd.google.colaboratory.intrinsic+json": {
              "type": "string"
            }
          },
          "metadata": {},
          "execution_count": 15
        }
      ]
    },
    {
      "cell_type": "code",
      "source": [
        "chunks[1].metadata"
      ],
      "metadata": {
        "colab": {
          "base_uri": "https://localhost:8080/"
        },
        "id": "ozf5IgoaW_gO",
        "outputId": "dcfccf7f-3f61-4c56-cc5a-8c9955c1f45e"
      },
      "execution_count": 16,
      "outputs": [
        {
          "output_type": "execute_result",
          "data": {
            "text/plain": [
              "{'document': 'Nikola Tesla'}"
            ]
          },
          "metadata": {},
          "execution_count": 16
        }
      ]
    },
    {
      "cell_type": "markdown",
      "source": [
        "# Embedding"
      ],
      "metadata": {
        "id": "ZeL4DCSmSpGx"
      }
    },
    {
      "cell_type": "code",
      "source": [
        "!pip install -q cohere\n",
        "# !pip install -q openai"
      ],
      "metadata": {
        "id": "bkrammeqbqo5"
      },
      "execution_count": 198,
      "outputs": []
    },
    {
      "cell_type": "code",
      "source": [
        "import os\n",
        "os.environ['tokenAPI'] = \"mTDpM65037EBGKXXLskoy5mcBp1hkHyO7sz9LNgC\""
      ],
      "metadata": {
        "id": "By8XetR2a4QS"
      },
      "execution_count": 199,
      "outputs": []
    },
    {
      "cell_type": "code",
      "source": [
        "from langchain.embeddings import CohereEmbeddings\n",
        "# from langchain.embeddings import OpenAIEmbeddings\n",
        "\n",
        "embed = CohereEmbeddings(cohere_api_key = os.environ['tokenAPI'])"
      ],
      "metadata": {
        "id": "UI4pj6-uACfK"
      },
      "execution_count": 200,
      "outputs": []
    },
    {
      "cell_type": "code",
      "source": [
        "test_embeds = embed.embed_documents(['Hi there', 'i love LLM'])\n",
        "print(len(test_embeds), len(test_embeds[0]))"
      ],
      "metadata": {
        "colab": {
          "base_uri": "https://localhost:8080/"
        },
        "id": "uZOByhjDcEFW",
        "outputId": "41a55fab-9a25-49b2-94a6-741e443c3bfb"
      },
      "execution_count": 201,
      "outputs": [
        {
          "output_type": "stream",
          "name": "stdout",
          "text": [
            "2 4096\n"
          ]
        }
      ]
    },
    {
      "cell_type": "code",
      "source": [
        "contents = [chunk.page_content for chunk in chunks]\n",
        "print(len(contents), len(chunks)==len(contents))"
      ],
      "metadata": {
        "colab": {
          "base_uri": "https://localhost:8080/"
        },
        "id": "1sTL4DB5cbay",
        "outputId": "143f763b-481c-47b0-fe53-bb50e767e227"
      },
      "execution_count": 202,
      "outputs": [
        {
          "output_type": "stream",
          "name": "stdout",
          "text": [
            "150 True\n"
          ]
        }
      ]
    },
    {
      "cell_type": "code",
      "source": [
        "contents[0]"
      ],
      "metadata": {
        "colab": {
          "base_uri": "https://localhost:8080/",
          "height": 0
        },
        "id": "c5sYtTblACpX",
        "outputId": "4b16548a-fd3e-4d4f-81d5-3776078c231d"
      },
      "execution_count": 203,
      "outputs": [
        {
          "output_type": "execute_result",
          "data": {
            "text/plain": [
              "'Nikola Tesla (; Serbian Cyrillic: Никола Тесла, [nǐkola têsla]; 10 July [O.S.\\n\\n28 June] 1856 – 7 January 1943) was a Serbian-American inventor, electrical engineer, mechanical engineer, and futurist.'"
            ],
            "application/vnd.google.colaboratory.intrinsic+json": {
              "type": "string"
            }
          },
          "metadata": {},
          "execution_count": 203
        }
      ]
    },
    {
      "cell_type": "code",
      "source": [
        "embeddings = embed.embed_documents(contents)"
      ],
      "metadata": {
        "id": "GtaynjLknM5a"
      },
      "execution_count": 204,
      "outputs": []
    },
    {
      "cell_type": "code",
      "source": [
        "qe_test = embed.embed_query('When Nikola was born?')\n",
        "len(qe_test)"
      ],
      "metadata": {
        "colab": {
          "base_uri": "https://localhost:8080/"
        },
        "id": "KDnzd3K3nWd6",
        "outputId": "0900b495-7670-4552-d253-7a928b600e74"
      },
      "execution_count": 205,
      "outputs": [
        {
          "output_type": "execute_result",
          "data": {
            "text/plain": [
              "4096"
            ]
          },
          "metadata": {},
          "execution_count": 205
        }
      ]
    },
    {
      "cell_type": "markdown",
      "source": [
        "# Vector Store (Indexing)"
      ],
      "metadata": {
        "id": "mydPHju8pbpB"
      }
    },
    {
      "cell_type": "markdown",
      "source": [
        "### FAISS"
      ],
      "metadata": {
        "id": "v9vlPohYsU1M"
      }
    },
    {
      "cell_type": "code",
      "source": [
        "!pip install -q faiss-cpu"
      ],
      "metadata": {
        "id": "KIwlB5azpfnW"
      },
      "execution_count": 207,
      "outputs": []
    },
    {
      "cell_type": "code",
      "source": [
        "from langchain.vectorstores import FAISS\n",
        "\n",
        "vector_db = FAISS.from_documents(chunks, embed)"
      ],
      "metadata": {
        "id": "3c-9LWU-prin"
      },
      "execution_count": 208,
      "outputs": []
    },
    {
      "cell_type": "code",
      "source": [
        "similar_docs = vector_db.similarity_search('When did tesla die?', k=3)\n",
        "len(similar_docs)"
      ],
      "metadata": {
        "colab": {
          "base_uri": "https://localhost:8080/"
        },
        "id": "tvQrOC0JqgaS",
        "outputId": "753557f0-6dad-4856-d6ec-cc8736543c49"
      },
      "execution_count": 209,
      "outputs": [
        {
          "output_type": "execute_result",
          "data": {
            "text/plain": [
              "3"
            ]
          },
          "metadata": {},
          "execution_count": 209
        }
      ]
    },
    {
      "cell_type": "code",
      "source": [
        "similar_docs[0]"
      ],
      "metadata": {
        "colab": {
          "base_uri": "https://localhost:8080/"
        },
        "id": "EWTLZLhYrcsV",
        "outputId": "a0ab8be0-0e6f-412b-8f71-db1029a8d247"
      },
      "execution_count": 210,
      "outputs": [
        {
          "output_type": "execute_result",
          "data": {
            "text/plain": [
              "Document(page_content=\"He died in New York City in January 1943.\\n\\nTesla's work fell into relative obscurity following his death, until 1960, when the General Conference on Weights and Measures named the International System of Units (SI) measurement of magnetic flux density the tesla in his honor.\\n\\nThere has been a resurgence in popular interest in Tesla since the 1990s.\", metadata={'document': 'Nikola Tesla'})"
            ]
          },
          "metadata": {},
          "execution_count": 210
        }
      ]
    },
    {
      "cell_type": "markdown",
      "source": [
        "### Chroma"
      ],
      "metadata": {
        "id": "I1OUVCBpsYNd"
      }
    },
    {
      "cell_type": "code",
      "source": [
        "!pip install -q chromadb"
      ],
      "metadata": {
        "id": "G4M-LYsZsZcX"
      },
      "execution_count": 211,
      "outputs": []
    },
    {
      "cell_type": "code",
      "source": [
        "db_dir = 'chroma_db'\n",
        "if not os.path.exists(db_dir): os.mkdir(db_dir)"
      ],
      "metadata": {
        "id": "TGYg0_Azsmd0"
      },
      "execution_count": 212,
      "outputs": []
    },
    {
      "cell_type": "code",
      "source": [
        "docs_ids = list(range(len(chunks)))\n",
        "len(docs_ids)"
      ],
      "metadata": {
        "colab": {
          "base_uri": "https://localhost:8080/"
        },
        "id": "Q3yIsdmFs2dg",
        "outputId": "4765e148-084a-444e-e27b-110fa3ba8915"
      },
      "execution_count": 213,
      "outputs": [
        {
          "output_type": "execute_result",
          "data": {
            "text/plain": [
              "150"
            ]
          },
          "metadata": {},
          "execution_count": 213
        }
      ]
    },
    {
      "cell_type": "code",
      "source": [
        "docs_ids = list(map(str, docs_ids))\n",
        "docs_ids[:11]"
      ],
      "metadata": {
        "colab": {
          "base_uri": "https://localhost:8080/"
        },
        "id": "b0_YH-0IvPlL",
        "outputId": "42ff5b60-01e5-4cfb-d421-c10d63cd11a7"
      },
      "execution_count": 214,
      "outputs": [
        {
          "output_type": "execute_result",
          "data": {
            "text/plain": [
              "['0', '1', '2', '3', '4', '5', '6', '7', '8', '9', '10']"
            ]
          },
          "metadata": {},
          "execution_count": 214
        }
      ]
    },
    {
      "cell_type": "code",
      "source": [
        "from langchain.vectorstores import Chroma\n",
        "\n",
        "vector_db = Chroma.from_documents(\n",
        "    chunks, embed,\n",
        "    ids = docs_ids,\n",
        "    persist_directory = db_dir\n",
        ")"
      ],
      "metadata": {
        "id": "x6mWxWAQqbuJ"
      },
      "execution_count": 215,
      "outputs": []
    },
    {
      "cell_type": "code",
      "source": [
        "similar_docs = vector_db.similarity_search('When did tesla die?', k=3)\n",
        "len(similar_docs)"
      ],
      "metadata": {
        "colab": {
          "base_uri": "https://localhost:8080/"
        },
        "id": "sisf9E7dtc_z",
        "outputId": "56ce9f00-55c5-41d6-a09f-152d31bd17c7"
      },
      "execution_count": 216,
      "outputs": [
        {
          "output_type": "execute_result",
          "data": {
            "text/plain": [
              "3"
            ]
          },
          "metadata": {},
          "execution_count": 216
        }
      ]
    },
    {
      "cell_type": "code",
      "source": [
        "similar_docs[0]"
      ],
      "metadata": {
        "colab": {
          "base_uri": "https://localhost:8080/"
        },
        "id": "thvY9LP4wBEA",
        "outputId": "c59417fc-5102-496b-92e9-1adadee7fb85"
      },
      "execution_count": 217,
      "outputs": [
        {
          "output_type": "execute_result",
          "data": {
            "text/plain": [
              "Document(page_content=\"He died in New York City in January 1943.\\n\\nTesla's work fell into relative obscurity following his death, until 1960, when the General Conference on Weights and Measures named the International System of Units (SI) measurement of magnetic flux density the tesla in his honor.\\n\\nThere has been a resurgence in popular interest in Tesla since the 1990s.\", metadata={'document': 'Nikola Tesla'})"
            ]
          },
          "metadata": {},
          "execution_count": 217
        }
      ]
    },
    {
      "cell_type": "code",
      "source": [
        "similar_docs = vector_db.similarity_search('When did tesla die?', k=3, filter={'document':'Nikola Tesla'})\n",
        "len(similar_docs)"
      ],
      "metadata": {
        "colab": {
          "base_uri": "https://localhost:8080/"
        },
        "id": "7ftFx8wSwEGs",
        "outputId": "c3a57344-29f0-4168-aa74-5787cb304ec5"
      },
      "execution_count": 218,
      "outputs": [
        {
          "output_type": "execute_result",
          "data": {
            "text/plain": [
              "3"
            ]
          },
          "metadata": {},
          "execution_count": 218
        }
      ]
    },
    {
      "cell_type": "code",
      "source": [
        "vector_db.persist() # Save the vector_db to the persist_directory"
      ],
      "metadata": {
        "id": "Fejmp_kVwgkT"
      },
      "execution_count": 219,
      "outputs": []
    },
    {
      "cell_type": "code",
      "source": [
        "vector_db = Chroma(\n",
        "    persist_directory = db_dir,\n",
        "    embedding_function = embed\n",
        ")"
      ],
      "metadata": {
        "id": "z3H13sSoxUI3"
      },
      "execution_count": 220,
      "outputs": []
    },
    {
      "cell_type": "markdown",
      "source": [
        "# QnA Chains"
      ],
      "metadata": {
        "id": "C9rEFAo5yBxq"
      }
    },
    {
      "cell_type": "markdown",
      "source": [
        "### Stuff Chain"
      ],
      "metadata": {
        "id": "rCbmB4QbFRZu"
      }
    },
    {
      "cell_type": "code",
      "source": [
        "from langchain import PromptTemplate\n",
        "from langchain.chains.question_answering import load_qa_chain\n",
        "from langchain.llms import Cohere"
      ],
      "metadata": {
        "id": "heTmfMYq8Zu7"
      },
      "execution_count": 114,
      "outputs": []
    },
    {
      "cell_type": "code",
      "source": [
        "qna_template = '''\n",
        "Answer the next question using the provided context.\n",
        "If the answer is not contained in the context, say 'NO ANSWER IS AVAILABLE'\n",
        "### Context:\n",
        "{context}\n",
        "\n",
        "### Question:\n",
        "{question}\n",
        "\n",
        "### Answer:\n",
        "'''\n",
        "\n",
        "\n",
        "print(qna_template)"
      ],
      "metadata": {
        "colab": {
          "base_uri": "https://localhost:8080/"
        },
        "id": "yrxraiv49xQ8",
        "outputId": "ac83de4a-13ca-4f5e-d6b4-cd04ad5e930e"
      },
      "execution_count": 166,
      "outputs": [
        {
          "output_type": "stream",
          "name": "stdout",
          "text": [
            "\n",
            "Answer the next question using the provided context.\n",
            "If the answer is not contained in the context, say 'NO ANSWER IS AVAILABLE'\n",
            "### Context:\n",
            "{context}\n",
            "\n",
            "### Question:\n",
            "{question}\n",
            "\n",
            "### Answer:\n",
            "\n"
          ]
        }
      ]
    },
    {
      "cell_type": "code",
      "source": [
        "qna_prompt = PromptTemplate(\n",
        "    template=qna_template,\n",
        "    input_variables=['context', 'question'],\n",
        "    verbose=True\n",
        ")"
      ],
      "metadata": {
        "id": "XLsnOt8e8w5Q"
      },
      "execution_count": 141,
      "outputs": []
    },
    {
      "cell_type": "code",
      "source": [
        "llm = Cohere(\n",
        "    cohere_api_key = os.environ['tokenAPI'],\n",
        "    temperature=0.5\n",
        ")\n",
        "\n",
        "\n",
        "# llm = OpenAI(\n",
        "#     openai_api_key=openai_api_key,\n",
        "#     model_name=\"text-davinci-003\",\n",
        "#     temperature=0.5\n",
        "# )"
      ],
      "metadata": {
        "id": "w_PvEGBx_J7r"
      },
      "execution_count": 179,
      "outputs": []
    },
    {
      "cell_type": "code",
      "source": [
        "stuff_chain = load_qa_chain(llm, prompt = qna_prompt) # chain_type = 'stuff' by default\n",
        "type(stuff_chain)"
      ],
      "metadata": {
        "colab": {
          "base_uri": "https://localhost:8080/",
          "height": 186
        },
        "id": "-RWxC_CXp4Ft",
        "outputId": "a945b52b-300a-41d3-eea1-e18d1c74608d"
      },
      "execution_count": 169,
      "outputs": [
        {
          "output_type": "execute_result",
          "data": {
            "text/plain": [
              "langchain.chains.combine_documents.stuff.StuffDocumentsChain"
            ],
            "text/html": [
              "<div style=\"max-width:800px; border: 1px solid var(--colab-border-color);\"><style>\n",
              "      pre.function-repr-contents {\n",
              "        overflow-x: auto;\n",
              "        padding: 8px 12px;\n",
              "        max-height: 500px;\n",
              "      }\n",
              "\n",
              "      pre.function-repr-contents.function-repr-contents-collapsed {\n",
              "        cursor: pointer;\n",
              "        max-height: 100px;\n",
              "      }\n",
              "    </style>\n",
              "    <pre style=\"white-space: initial; background:\n",
              "         var(--colab-secondary-surface-color); padding: 8px 12px;\n",
              "         border-bottom: 1px solid var(--colab-border-color);\"><b>langchain.chains.combine_documents.stuff.StuffDocumentsChain</b><br/>def warning_emitting_wrapper(*args: Any, **kwargs: Any) -&gt; Any</pre><pre class=\"function-repr-contents function-repr-contents-collapsed\" style=\"\"><a class=\"filepath\" style=\"display:none\" href=\"#\">/usr/local/lib/python3.10/dist-packages/langchain/chains/combine_documents/stuff.py</a>Chain that combines documents by stuffing into context.\n",
              "\n",
              "This chain takes a list of documents and first combines them into a single string.\n",
              "It does this by formatting each document into a string with the `document_prompt`\n",
              "and then joining them together with `document_separator`. It then adds that new\n",
              "string to the inputs with the variable name set by `document_variable_name`.\n",
              "Those inputs are then passed to the `llm_chain`.\n",
              "\n",
              "Example:\n",
              "    .. code-block:: python\n",
              "\n",
              "        from langchain.chains import StuffDocumentsChain, LLMChain\n",
              "        from langchain_core.prompts import PromptTemplate\n",
              "        from langchain_community.llms import OpenAI\n",
              "\n",
              "        # This controls how each document will be formatted. Specifically,\n",
              "        # it will be passed to `format_document` - see that function for more\n",
              "        # details.\n",
              "        document_prompt = PromptTemplate(\n",
              "            input_variables=[&quot;page_content&quot;],\n",
              "            template=&quot;{page_content}&quot;\n",
              "        )\n",
              "        document_variable_name = &quot;context&quot;\n",
              "        llm = OpenAI()\n",
              "        # The prompt here should take as an input variable the\n",
              "        # `document_variable_name`\n",
              "        prompt = PromptTemplate.from_template(\n",
              "            &quot;Summarize this content: {context}&quot;\n",
              "        )\n",
              "        llm_chain = LLMChain(llm=llm, prompt=prompt)\n",
              "        chain = StuffDocumentsChain(\n",
              "            llm_chain=llm_chain,\n",
              "            document_prompt=document_prompt,\n",
              "            document_variable_name=document_variable_name\n",
              "        )</pre>\n",
              "      <script>\n",
              "      if (google.colab.kernel.accessAllowed && google.colab.files && google.colab.files.view) {\n",
              "        for (const element of document.querySelectorAll('.filepath')) {\n",
              "          element.style.display = 'block'\n",
              "          element.onclick = (event) => {\n",
              "            event.preventDefault();\n",
              "            event.stopPropagation();\n",
              "            google.colab.files.view(element.textContent, 93);\n",
              "          };\n",
              "        }\n",
              "      }\n",
              "      for (const element of document.querySelectorAll('.function-repr-contents')) {\n",
              "        element.onclick = (event) => {\n",
              "          event.preventDefault();\n",
              "          event.stopPropagation();\n",
              "          element.classList.toggle('function-repr-contents-collapsed');\n",
              "        };\n",
              "      }\n",
              "      </script>\n",
              "      </div>"
            ]
          },
          "metadata": {},
          "execution_count": 169
        }
      ]
    },
    {
      "cell_type": "code",
      "source": [
        "query = 'What did Edison invent?'\n",
        "similar_docs = vector_db.similarity_search(query, k=3)\n",
        "len(similar_docs)"
      ],
      "metadata": {
        "colab": {
          "base_uri": "https://localhost:8080/"
        },
        "id": "8S4t4Hmyx0QC",
        "outputId": "afae67ed-5ca2-4afb-c71d-5322956e3cd1"
      },
      "execution_count": 167,
      "outputs": [
        {
          "output_type": "execute_result",
          "data": {
            "text/plain": [
              "3"
            ]
          },
          "metadata": {},
          "execution_count": 167
        }
      ]
    },
    {
      "cell_type": "code",
      "source": [
        "inp_dict = {\n",
        "    'input_documents' : similar_docs,\n",
        "    'question' : query\n",
        "}\n",
        "\n",
        "ans = stuff_chain(inp_dict, return_only_outputs = True)\n",
        "\n",
        "ans"
      ],
      "metadata": {
        "colab": {
          "base_uri": "https://localhost:8080/"
        },
        "id": "4BxSkwT7Bp-5",
        "outputId": "5488966c-7954-4f65-ceef-1a4acd7e39e1"
      },
      "execution_count": 170,
      "outputs": [
        {
          "output_type": "execute_result",
          "data": {
            "text/plain": [
              "{'output_text': ' Edison invented the phonograph, one of the first devices for recording and playing back sound. This invention allowed for the first steps toward mass communication, which would eventually be developed further by Edison and others. '}"
            ]
          },
          "metadata": {},
          "execution_count": 170
        }
      ]
    },
    {
      "cell_type": "code",
      "source": [
        "inp_dict = {\n",
        "    'input_documents' : similar_docs,\n",
        "    'question' : query\n",
        "}\n",
        "\n",
        "ans = stuff_chain(inp_dict)\n",
        "\n",
        "ans.keys()"
      ],
      "metadata": {
        "colab": {
          "base_uri": "https://localhost:8080/"
        },
        "id": "tR7BvU-vCvtz",
        "outputId": "0e9a81a3-336b-4277-b21c-ed6ccc94c95d"
      },
      "execution_count": 171,
      "outputs": [
        {
          "output_type": "execute_result",
          "data": {
            "text/plain": [
              "dict_keys(['input_documents', 'question', 'output_text'])"
            ]
          },
          "metadata": {},
          "execution_count": 171
        }
      ]
    },
    {
      "cell_type": "code",
      "source": [
        "query = 'Who is Abdullah Ayad?'\n",
        "\n",
        "inp_dict = {\n",
        "    'input_documents' : vector_db.similarity_search(query, k=3),\n",
        "    'question' : query\n",
        "}\n",
        "\n",
        "ans = stuff_chain(stuff, return_only_outputs = True)\n",
        "\n",
        "ans"
      ],
      "metadata": {
        "colab": {
          "base_uri": "https://localhost:8080/"
        },
        "id": "8Z28Z7RIDFW0",
        "outputId": "1ebfb087-9d16-4ed8-a862-54c139c9b1dd"
      },
      "execution_count": 172,
      "outputs": [
        {
          "output_type": "execute_result",
          "data": {
            "text/plain": [
              "{'output_text': ' NO ANSWER IS AVAILABLE'}"
            ]
          },
          "metadata": {},
          "execution_count": 172
        }
      ]
    },
    {
      "cell_type": "markdown",
      "source": [
        "### MapReduce Chain"
      ],
      "metadata": {
        "id": "lTVm2klWFVJ3"
      }
    },
    {
      "cell_type": "code",
      "source": [
        "compine_template = '''\n",
        "\"Given intermediate contexts for a question, generate a final answer.\n",
        "If the answer is not contained in the context, say 'NO ANSWER IS AVAILABLE'\n",
        "### Summaries:\n",
        "{summaries}\n",
        "\n",
        "### Question:\n",
        "{question}\n",
        "\n",
        "### Answer:\n",
        "'''\n",
        "\n",
        "print(compine_template)\n",
        "\n",
        "combine_prompt = PromptTemplate(\n",
        "    template = compine_template,\n",
        "    input_variables = ['summaries', 'question'],\n",
        ")"
      ],
      "metadata": {
        "colab": {
          "base_uri": "https://localhost:8080/"
        },
        "id": "eiNuk45TFaAh",
        "outputId": "b39ed164-8ab2-440e-c8af-93b1dcd8ae0b"
      },
      "execution_count": 153,
      "outputs": [
        {
          "output_type": "stream",
          "name": "stdout",
          "text": [
            "\n",
            "\"Given intermediate contexts for a question, generate a final answer.\n",
            "If the answer is not contained in the context, say 'NO ANSWER IS AVAILABLE'\n",
            "### Summaries:\n",
            "{summaries}\n",
            "\n",
            "### Question:\n",
            "{question}\n",
            "\n",
            "### Answer:\n",
            "\n"
          ]
        }
      ]
    },
    {
      "cell_type": "code",
      "source": [
        "query = 'Where is Edison from?'\n",
        "\n",
        "similar_docs = vector_db.similarity_search(query = query, k=3)"
      ],
      "metadata": {
        "id": "ay0_F01CH13Q"
      },
      "execution_count": 149,
      "outputs": []
    },
    {
      "cell_type": "code",
      "source": [
        "map_reduce_chain = load_qa_chain(\n",
        "    llm, chain_type = \"map_reduce\",\n",
        "    question_prompt = qna_prompt,\n",
        "    combine_prompt = combine_prompt,\n",
        "    return_intermediate_steps = True,\n",
        ")"
      ],
      "metadata": {
        "id": "KZGvRXdJJ-HD"
      },
      "execution_count": 235,
      "outputs": []
    },
    {
      "cell_type": "code",
      "source": [
        "inp_dict = {\n",
        "    'input_documents' : similar_docs,\n",
        "    'question' : query\n",
        "}\n",
        "\n",
        "ans = map_reduce_chain(inp_dict, return_only_outputs = True)\n",
        "\n",
        "ans"
      ],
      "metadata": {
        "id": "5VPKwWTtLLeK"
      },
      "execution_count": 237,
      "outputs": []
    },
    {
      "cell_type": "markdown",
      "source": [
        "### Refine Chain"
      ],
      "metadata": {
        "id": "i7Zl75pkPAFJ"
      }
    },
    {
      "cell_type": "code",
      "source": [
        "initial_qna_template = '''\n",
        "Answer the following question using the provided text only.\n",
        "If the answer is not contained in the context, say 'NO ANSWER IS AVAILABLE'\n",
        "### Context:\n",
        "{context_str}\n",
        "\n",
        "### Question:\n",
        "{question}\n",
        "\n",
        "### Answer:\n",
        "'''\n",
        "\n",
        "initial_qna_prompt = PromptTemplate(\n",
        "    template=initial_qna_template,\n",
        "    input_variables=['context_str', 'question']\n",
        ")"
      ],
      "metadata": {
        "id": "D6PQFgKFPDnr"
      },
      "execution_count": 194,
      "outputs": []
    },
    {
      "cell_type": "code",
      "source": [
        "refine_qna_template = '''\n",
        "Refine the existing answer, if required, with the following context.\n",
        "If the answer is not contained in the context, say 'NO ANSWER IS AVAILABLE'\n",
        "### Context:\n",
        "{context}\n",
        "\n",
        "### Existing Answer:\n",
        "{existing_answer}\n",
        "\n",
        "### Question:\n",
        "{question}\n",
        "\n",
        "### Refined Answer:\n",
        "'''\n",
        "\n",
        "refine_qna_prompt = PromptTemplate(\n",
        "    template=initial_qna_template,\n",
        "    input_variables=['context', 'existing_answer', 'question']\n",
        ")"
      ],
      "metadata": {
        "id": "lOoIBPeCQAOt"
      },
      "execution_count": 229,
      "outputs": []
    },
    {
      "cell_type": "code",
      "source": [
        "refine_chain = load_qa_chain(\n",
        "    llm, chain_type=\"refine\",\n",
        "    question_prompt=initial_qna_prompt,\n",
        "    refine_prompt=refine_qna_prompt,\n",
        "    return_intermediate_steps=True,\n",
        ")"
      ],
      "metadata": {
        "id": "pZlwwOgUQ1cA"
      },
      "execution_count": 230,
      "outputs": []
    },
    {
      "cell_type": "code",
      "source": [
        "question = \"What did Tesla invent?\"\n",
        "similar_docs = vector_db.similarity_search(question, k=2)\n",
        "len(similar_docs)"
      ],
      "metadata": {
        "colab": {
          "base_uri": "https://localhost:8080/"
        },
        "id": "esIciLFXPLDa",
        "outputId": "906634b2-ff7f-455c-fb05-9a126c8055cb"
      },
      "execution_count": 231,
      "outputs": [
        {
          "output_type": "execute_result",
          "data": {
            "text/plain": [
              "2"
            ]
          },
          "metadata": {},
          "execution_count": 231
        }
      ]
    },
    {
      "cell_type": "code",
      "source": [
        "inp_dict = {\n",
        "    \"input_documents\": similar_docs,\n",
        "    \"question\": question\n",
        "}\n",
        "\n",
        "final_refined_answer = refine_chain(inp_dict)\n",
        "\n",
        "final_refined_answer.keys()"
      ],
      "metadata": {
        "colab": {
          "base_uri": "https://localhost:8080/"
        },
        "id": "vDPB-jhcNkbt",
        "outputId": "c7ce6687-0590-4090-dd1c-e0a7934aa4fa"
      },
      "execution_count": 232,
      "outputs": [
        {
          "output_type": "execute_result",
          "data": {
            "text/plain": [
              "dict_keys(['input_documents', 'question', 'intermediate_steps', 'output_text'])"
            ]
          },
          "metadata": {},
          "execution_count": 232
        }
      ]
    },
    {
      "cell_type": "code",
      "source": [
        "final_refined_answer = refine_chain(inp_dict, return_only_outputs=True)\n",
        "\n",
        "final_refined_answer"
      ],
      "metadata": {
        "colab": {
          "base_uri": "https://localhost:8080/"
        },
        "id": "4aaPfmUYRE3f",
        "outputId": "13b582de-09d1-44d6-d5e1-e8aca060b816"
      },
      "execution_count": 233,
      "outputs": [
        {
          "output_type": "execute_result",
          "data": {
            "text/plain": [
              "{'intermediate_steps': [' Tesla invented a wirelessly controlled boat, mechanical oscillators/generators, electrical discharge tubes, and early X-ray imaging devices. \\n\\nWould you like me to provide more information on any of these inventions? \\nNO ANSWER IS AVAILABLE UNLESS CHANGES ARE MADE TO THE ORIGINAL QUESTION OR CONTEXT. ',\n",
              "  ' Tesla invented many devices that played an important part in the advancement of science and technology, including an alternating current (AC) electrical system, fluorescent and neon lighting, the Tesla coil, wireless communication, X-ray technology, remote control, robotics, and the rotating magnetic field principle (basis of the AC motor). '],\n",
              " 'output_text': ' Tesla invented many devices that played an important part in the advancement of science and technology, including an alternating current (AC) electrical system, fluorescent and neon lighting, the Tesla coil, wireless communication, X-ray technology, remote control, robotics, and the rotating magnetic field principle (basis of the AC motor). '}"
            ]
          },
          "metadata": {},
          "execution_count": 233
        }
      ]
    },
    {
      "cell_type": "code",
      "source": [
        "len(final_refined_answer['intermediate_steps'])"
      ],
      "metadata": {
        "colab": {
          "base_uri": "https://localhost:8080/"
        },
        "id": "sw2fde_FNlxe",
        "outputId": "6a8b00af-a975-4ed0-a543-2daab007a4e9"
      },
      "execution_count": 234,
      "outputs": [
        {
          "output_type": "execute_result",
          "data": {
            "text/plain": [
              "2"
            ]
          },
          "metadata": {},
          "execution_count": 234
        }
      ]
    },
    {
      "cell_type": "code",
      "source": [],
      "metadata": {
        "id": "XbadJDe3ESp7"
      },
      "execution_count": null,
      "outputs": []
    },
    {
      "cell_type": "code",
      "source": [],
      "metadata": {
        "id": "ORVLF7apnNBv"
      },
      "execution_count": null,
      "outputs": []
    }
  ]
}